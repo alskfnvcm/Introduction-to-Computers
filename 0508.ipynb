{
  "cells": [
    {
      "cell_type": "markdown",
      "metadata": {
        "id": "view-in-github",
        "colab_type": "text"
      },
      "source": [
        "<a href=\"https://colab.research.google.com/github/alskfnvcm/Introduction-to-Computers/blob/main/0508.ipynb\" target=\"_parent\"><img src=\"https://colab.research.google.com/assets/colab-badge.svg\" alt=\"Open In Colab\"/></a>"
      ]
    },
    {
      "cell_type": "code",
      "source": [
        "T=float(input(\"請輸入體溫:\"))\n",
        "if (T>=37.5):\n",
        "  print(\"體溫過高\")\n",
        "elif (37.4>T>37):\n",
        "  print(\"體溫略高!\")\n",
        "elif (36.9>T>34):\n",
        "  print(\"體溫正常!\")\n",
        "else:\n",
        "  print(\"體溫異常，請重新量測!\")"
      ],
      "metadata": {
        "colab": {
          "base_uri": "https://localhost:8080/"
        },
        "id": "mq_yRY9i2oJL",
        "outputId": "9f58198b-f177-4a08-da40-63a8a243d694"
      },
      "execution_count": 2,
      "outputs": [
        {
          "output_type": "stream",
          "name": "stdout",
          "text": [
            "請輸入體溫:35\n",
            "體溫正常!\n"
          ]
        }
      ]
    },
    {
      "cell_type": "code",
      "source": [
        "score=int(input(\"請輸入成績:\"))\n",
        "if (score>=90):\n",
        "  print(\"A\")\n",
        "elif (90>score>79):\n",
        "  print(\"B\")\n",
        "elif (80>score>69):\n",
        "  print(\"C\")\n",
        "elif (70>score>59):\n",
        "  print(\"D\")\n",
        "else:\n",
        "  print(\"E\")"
      ],
      "metadata": {
        "colab": {
          "base_uri": "https://localhost:8080/"
        },
        "id": "pv9Wrorv2y-l",
        "outputId": "8cc691b4-5f67-4931-cf86-4ebed4d5876e"
      },
      "execution_count": 3,
      "outputs": [
        {
          "output_type": "stream",
          "name": "stdout",
          "text": [
            "請輸入成績:80\n",
            "B\n"
          ]
        }
      ]
    },
    {
      "cell_type": "code",
      "source": [
        "season=int(input(\"請輸入月份:\"))\n",
        "if (season==3or season==4or season==5):\n",
        "  print(\"春天\")\n",
        "elif (season==6or season==7or season==8):\n",
        "  print(\"夏天\")\n",
        "elif (season==9or season==10or season==11):\n",
        "  print(\"秋天\")\n",
        "elif (season==12or season==1or season==2):\n",
        "  print(\"冬天\")\n",
        "else:\n",
        "  print(\"月份不在範圍內!\")"
      ],
      "metadata": {
        "colab": {
          "base_uri": "https://localhost:8080/"
        },
        "id": "-gEjMeY_24iN",
        "outputId": "548052b2-9e34-4e65-dd46-ee3361195978"
      },
      "execution_count": 4,
      "outputs": [
        {
          "output_type": "stream",
          "name": "stdout",
          "text": [
            "請輸入月份:4\n",
            "春天\n"
          ]
        }
      ]
    }
  ],
  "metadata": {
    "colab": {
      "toc_visible": true,
      "provenance": [],
      "include_colab_link": true
    },
    "kernelspec": {
      "display_name": "Python 3",
      "name": "python3"
    }
  },
  "nbformat": 4,
  "nbformat_minor": 0
}