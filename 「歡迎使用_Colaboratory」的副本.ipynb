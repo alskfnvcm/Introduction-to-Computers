{
  "cells": [
    {
      "cell_type": "markdown",
      "metadata": {
        "id": "view-in-github",
        "colab_type": "text"
      },
      "source": [
        "<a href=\"https://colab.research.google.com/github/alskfnvcm/Introduction-to-Computers/blob/main/%E3%80%8C%E6%AD%A1%E8%BF%8E%E4%BD%BF%E7%94%A8_Colaboratory%E3%80%8D%E7%9A%84%E5%89%AF%E6%9C%AC.ipynb\" target=\"_parent\"><img src=\"https://colab.research.google.com/assets/colab-badge.svg\" alt=\"Open In Colab\"/></a>"
      ]
    },
    {
      "cell_type": "code",
      "source": [
        "test1=int(input(\"請輸入國文成績\"))\n",
        "test2=int(input(\"請輸入英文成績\"))\n",
        "test3=int(input(\"請輸入數學成績\"))\n",
        "test4=test1+test2+test3\n",
        "print(\"你的成績總分為：\",test4)"
      ],
      "metadata": {
        "id": "iyOvkYufa9nW",
        "colab": {
          "base_uri": "https://localhost:8080/"
        },
        "outputId": "9136d129-e16b-4f4d-b299-78d9d57c4927"
      },
      "execution_count": 9,
      "outputs": [
        {
          "output_type": "stream",
          "name": "stdout",
          "text": [
            "請輸入國文成績50\n",
            "請輸入英文成績60\n",
            "請輸入數學成績70\n",
            "你的成績總分為： 180\n"
          ]
        }
      ]
    },
    {
      "cell_type": "code",
      "source": [
        "上底=int(input(\"請輸入梯形上底長度：\"))\n",
        "下底=int(input(\"請輸入梯形下底長度：\"))\n",
        "高=int(input(\"請輸入梯形的高度\"))\n",
        "面積=(上底+下底)*高/2\n",
        "print(\"上底長度為：\",上底,\"下底長度為：\",下底,\"高度為：\",高,\"梯形面積為：\",面積)"
      ],
      "metadata": {
        "id": "yhi8m20WdkK1",
        "colab": {
          "base_uri": "https://localhost:8080/"
        },
        "outputId": "9f501444-661c-48f7-99cc-93e82096a78b"
      },
      "execution_count": 1,
      "outputs": [
        {
          "output_type": "stream",
          "name": "stdout",
          "text": [
            "請輸入梯形上底長度：3\n",
            "請輸入梯形下底長度：4\n",
            "請輸入梯形的高度3\n",
            "上底長度為： 3 下底長度為： 4 高度為： 3 梯形面積為： 10.5\n"
          ]
        }
      ]
    },
    {
      "cell_type": "code",
      "source": [
        "公分身高=int(input(\"請輸入您的身高（cm)：\"))\n",
        "體重=int(input(\"請輸入您的體重(kg)：\"))\n",
        "BMI=int(體重/(公分身高/100)**2)\n",
        "print(\"身高\",公分身高,\"體重\",體重,\"BMI值為\",BMI)"
      ],
      "metadata": {
        "colab": {
          "base_uri": "https://localhost:8080/"
        },
        "id": "XRmHjQJ0izP0",
        "outputId": "9fdd2e99-1bcd-412d-e37e-df0e5d8f3c4c"
      },
      "execution_count": 10,
      "outputs": [
        {
          "output_type": "stream",
          "name": "stdout",
          "text": [
            "請輸入您的身高（cm)：165\n",
            "請輸入您的體重(kg)：52\n",
            "身高 165 體重 52 BMI值為 19\n"
          ]
        }
      ]
    },
    {
      "cell_type": "code",
      "source": [],
      "metadata": {
        "id": "wLFYidCDjxtJ"
      },
      "execution_count": null,
      "outputs": []
    }
  ],
  "metadata": {
    "colab": {
      "provenance": [],
      "include_colab_link": true
    },
    "kernelspec": {
      "display_name": "Python 3",
      "name": "python3"
    }
  },
  "nbformat": 4,
  "nbformat_minor": 0
}